{
 "cells": [
  {
   "cell_type": "code",
   "execution_count": 34,
   "id": "b63f46ef",
   "metadata": {},
   "outputs": [],
   "source": [
    "from pyspark.sql import SQLContext\n",
    "from pyspark import SparkContext\n",
    "from pyspark.sql.functions import col\n",
    "from pyspark.sql import Row\n",
    "\n",
    "from pyspark.ml.evaluation import BinaryClassificationEvaluator,MulticlassClassificationEvaluator\n",
    "\n",
    "from pyspark.ml import Pipeline\n",
    "from pyspark.ml.feature import RegexTokenizer, StopWordsRemover, CountVectorizer\n",
    "from pyspark.ml.classification import LogisticRegression\n",
    "from pyspark.ml.classification import RandomForestClassifier\n",
    "from pyspark.ml.feature import OneHotEncoder, StringIndexer, VectorAssembler\n"
   ]
  },
  {
   "cell_type": "code",
   "execution_count": 2,
   "id": "5135713b",
   "metadata": {},
   "outputs": [
    {
     "name": "stderr",
     "output_type": "stream",
     "text": [
      "/Users/zaranabhalala/opt/anaconda3/lib/python3.8/site-packages/pyspark/sql/context.py:77: FutureWarning: Deprecated in 3.0.0. Use SparkSession.builder.getOrCreate() instead.\n",
      "  warnings.warn(\n"
     ]
    }
   ],
   "source": [
    "sc =SparkContext()\n",
    "sqlContext = SQLContext(sc)\n"
   ]
  },
  {
   "cell_type": "code",
   "execution_count": 14,
   "id": "e6b8127f",
   "metadata": {},
   "outputs": [],
   "source": [
    "train_df = sqlContext.read.format(\"csv\").load('file://///Users/zaranabhalala/Desktop/project/trainingandtestdata/training.1600000.processed.noemoticon.csv')\n",
    "# test_df = sqlContext.read.format(\"csv\").load('file://///Users/zaranabhalala/Desktop/project/trainingandtestdata/testdata.manual.2009.06.14.csv')\n",
    "\n",
    "\n",
    "#Rename Columns\n",
    "train_df = train_df.withColumnRenamed(\"_c0\", \"sentiment\")\\\n",
    "       .withColumnRenamed(\"_c1\", \"id\")\\\n",
    "        .withColumnRenamed(\"_c2\", \"date\")\\\n",
    "       .withColumnRenamed(\"_c3\", \"query\")\\\n",
    "       .withColumnRenamed(\"_c4\", \"user\")\\\n",
    "       .withColumnRenamed(\"_c5\", \"text\")\n"
   ]
  },
  {
   "cell_type": "markdown",
   "id": "19032660",
   "metadata": {},
   "source": [
    "# Distribution of Sentiments in Traning  Set"
   ]
  },
  {
   "cell_type": "code",
   "execution_count": 15,
   "id": "3ab45068",
   "metadata": {},
   "outputs": [
    {
     "name": "stdout",
     "output_type": "stream",
     "text": [
      "+---------+------+\n",
      "|sentiment| count|\n",
      "+---------+------+\n",
      "|        0|800000|\n",
      "|        4|800000|\n",
      "+---------+------+\n",
      "\n"
     ]
    }
   ],
   "source": [
    "train_df.groupBy(\"sentiment\") \\\n",
    "    .count() \\\n",
    "    .orderBy(col(\"count\").desc()) \\\n",
    "    .distinct() \\\n",
    "    .show()"
   ]
  },
  {
   "cell_type": "markdown",
   "id": "c0eae91e",
   "metadata": {},
   "source": [
    "# Distribution of Sentiments in Test Set\n"
   ]
  },
  {
   "cell_type": "code",
   "execution_count": 16,
   "id": "1b25e88c",
   "metadata": {},
   "outputs": [
    {
     "name": "stdout",
     "output_type": "stream",
     "text": [
      "+---------+-----+\n",
      "|sentiment|count|\n",
      "+---------+-----+\n",
      "|        0|  177|\n",
      "|        4|  182|\n",
      "|        2|  139|\n",
      "+---------+-----+\n",
      "\n"
     ]
    }
   ],
   "source": [
    "# test_df.groupBy(\"sentiment\") \\\n",
    "#     .count() \\\n",
    "#     .orderBy(col(\"count\").desc()) \\\n",
    "#     .distinct() \\\n",
    "#     .show()"
   ]
  },
  {
   "cell_type": "markdown",
   "id": "1bf557d3",
   "metadata": {},
   "source": [
    "# Split Train and Test Set"
   ]
  },
  {
   "cell_type": "code",
   "execution_count": 19,
   "id": "45e1a824",
   "metadata": {},
   "outputs": [
    {
     "name": "stdout",
     "output_type": "stream",
     "text": [
      "Training Dataset Count: 1120280\n",
      "Test Dataset Count: 479720\n"
     ]
    }
   ],
   "source": [
    "# set seed for reproducibility\n",
    "(train_df, test_df) = train_df.randomSplit([0.7, 0.3], seed = 100)\n",
    "print(\"Training Dataset Count: \" + str(train_df.count()))\n",
    "print(\"Test Dataset Count: \" + str(test_df.count()))\n"
   ]
  },
  {
   "cell_type": "code",
   "execution_count": null,
   "id": "d4e23b8f",
   "metadata": {},
   "outputs": [],
   "source": []
  },
  {
   "cell_type": "markdown",
   "id": "a257d01f",
   "metadata": {},
   "source": [
    "# Data Preprofessing and Model Training in Spark"
   ]
  },
  {
   "cell_type": "code",
   "execution_count": 23,
   "id": "5483daa1",
   "metadata": {},
   "outputs": [],
   "source": [
    "#\n",
    "## regular expression tokenizer\n",
    "regexTokenizer = RegexTokenizer(inputCol=\"text\", outputCol=\"words\", pattern=\"\\\\W\")\n",
    "#\n",
    "## stop words\n",
    "add_stopwords = [\"http\",\"https\",\"amp\",\"rt\",\"t\",\"c\",\"the\",\"@\"]\n",
    "stopwordsRemover = StopWordsRemover(inputCol=\"words\", outputCol=\"filtered\").setStopWords(add_stopwords)\n",
    "#\n",
    "## bag of words count\n",
    "countVectors = CountVectorizer(inputCol=\"filtered\", outputCol=\"features\", vocabSize=10000, minDF=5)\n",
    "#\n",
    "## convert string labels to indexes\n",
    "label_stringIdx = StringIndexer(inputCol = \"sentiment\", outputCol = \"label\")\n",
    "#\n",
    "#print (label_stringIdx)\n",
    "\n",
    "rf = RandomForestClassifier(labelCol=\"label\", featuresCol=\"features\", numTrees=100, seed=100)\n",
    "##lrModel = lr.fit(trainingData)"
   ]
  },
  {
   "cell_type": "code",
   "execution_count": 26,
   "id": "880c0e9d",
   "metadata": {},
   "outputs": [],
   "source": [
    "pipeline = Pipeline(stages=[regexTokenizer, stopwordsRemover, countVectors, label_stringIdx, rf])"
   ]
  },
  {
   "cell_type": "code",
   "execution_count": 28,
   "id": "dea75b3e",
   "metadata": {},
   "outputs": [],
   "source": [
    "pipelineFit = pipeline.fit(train_df)\n",
    "predictions = pipelineFit.transform(test_df)"
   ]
  },
  {
   "cell_type": "markdown",
   "id": "2d0692b6",
   "metadata": {},
   "source": [
    "# Model Inference on sample test set"
   ]
  },
  {
   "cell_type": "code",
   "execution_count": 33,
   "id": "c8d9970d",
   "metadata": {},
   "outputs": [
    {
     "name": "stdout",
     "output_type": "stream",
     "text": [
      "+----------------------------------------+---------+----------------------------------------+-----+----------+\n",
      "|                                    text|sentiment|                             probability|label|prediction|\n",
      "+----------------------------------------+---------+----------------------------------------+-----+----------+\n",
      "|Crap :| Can't attend school. Me sick....|        0| [0.4002160167987572,0.5997839832012428]|  1.0|       1.0|\n",
      "|@nathanprodi yeah, i'm sick  i feel l...|        0| [0.4042877635215788,0.5957122364784212]|  1.0|       1.0|\n",
      "|I'm always hungry all the time but no...|        0|[0.40473638082922625,0.5952636191707739]|  1.0|       1.0|\n",
      "|I'm sooooo sick...sore throat, headac...|        0|[0.40516120663837013,0.5948387933616299]|  1.0|       1.0|\n",
      "|G'morning! I'm sad cus my back hurts ...|        0|[0.40743924994458935,0.5925607500554106]|  1.0|       1.0|\n",
      "|i hate being sick. i feel horrible. m...|        0|[0.40889193436898824,0.5911080656310118]|  1.0|       1.0|\n",
      "|urghh! i feel sick! my tummy hurts ri...|        0| [0.4119392919519621,0.5880607080480378]|  1.0|       1.0|\n",
      "|i miss my kitty; i dont even want to ...|        0| [0.4123219320497672,0.5876780679502329]|  1.0|       1.0|\n",
      "|My head hurts sooo bad right now! Ugh...|        0|[0.41371989665306863,0.5862801033469314]|  1.0|       1.0|\n",
      "|ugh, looks like i have to give up my ...|        0|[0.41464374042653984,0.5853562595734602]|  1.0|       1.0|\n",
      "|No ball for Erin. Me sad. Not allowed...|        0|   [0.414644439764302,0.585355560235698]|  1.0|       1.0|\n",
      "|Why does my stomach hurt so bad  I do...|        0| [0.4150871316489324,0.5849128683510676]|  1.0|       1.0|\n",
      "|is sad...  i hate lying to him like t...|        0|[0.41515082838865275,0.5848491716113472]|  1.0|       1.0|\n",
      "|@sherm6ft6 im sooo sad! i wanted to d...|        0|[0.41590337421490875,0.5840966257850913]|  1.0|       1.0|\n",
      "|I literally feel sick without him...I...|        0|[0.41608760393524746,0.5839123960647525]|  1.0|       1.0|\n",
      "|I wish some one was up to talk to! im...|        0| [0.4163065924610325,0.5836934075389675]|  1.0|       1.0|\n",
      "|ugh, i feel sick!  probly bcus of my ...|        0| [0.4167653051263015,0.5832346948736985]|  1.0|       1.0|\n",
      "|@rpd95 What?! That's sad  I mean that...|        0| [0.4172620648600398,0.5827379351399602]|  1.0|       1.0|\n",
      "|No! I think i'm getting the flu, feel...|        0| [0.4173528111589488,0.5826471888410513]|  1.0|       1.0|\n",
      "|Poor Nati is sick today.  It's so qui...|        0| [0.4173873120905096,0.5826126879094903]|  1.0|       1.0|\n",
      "|there is no point in going home sick ...|        0|[0.41758912558371114,0.5824108744162888]|  1.0|       1.0|\n",
      "|sick  roomie gave me her cold my thro...|        0|  [0.4178023596567861,0.582197640343214]|  1.0|       1.0|\n",
      "|At work right now. Sad that i have to...|        0|[0.41801816920936913,0.5819818307906308]|  1.0|       1.0|\n",
      "|So tired!  Can't stop coughing!  Hurt...|        0| [0.4184535717667555,0.5815464282332445]|  1.0|       1.0|\n",
      "|Slept bad, feel tired. Hate exams. Ha...|        0| [0.4185380512649601,0.5814619487350399]|  1.0|       1.0|\n",
      "|im sick i feel like crap ..but i sti ...|        0|[0.41876017416346334,0.5812398258365367]|  1.0|       1.0|\n",
      "|is about to cry which is somethin I n...|        0| [0.41883419486163603,0.581165805138364]|  1.0|       1.0|\n",
      "|I'm SICK!! Ugh  HORRIBLE tummy ache!!...|        0| [0.4190186480919577,0.5809813519080422]|  1.0|       1.0|\n",
      "|Pray for Us, Karen is working, Aiden ...|        0| [0.4190964719455616,0.5809035280544385]|  1.0|       1.0|\n",
      "|Am getting some kind of sore throat t...|        0| [0.4191412054091495,0.5808587945908504]|  1.0|       1.0|\n",
      "+----------------------------------------+---------+----------------------------------------+-----+----------+\n",
      "only showing top 30 rows\n",
      "\n"
     ]
    }
   ],
   "source": [
    "predictions.select(\"text\",\"sentiment\",\"probability\",\"label\",\"prediction\") \\\n",
    "    .orderBy(\"probability\") \\\n",
    "    .show(n = 30, truncate = 40)"
   ]
  },
  {
   "cell_type": "markdown",
   "id": "a886ecf2",
   "metadata": {},
   "source": [
    "# Spark Model Validation"
   ]
  },
  {
   "cell_type": "code",
   "execution_count": 37,
   "id": "6f807f8d",
   "metadata": {},
   "outputs": [
    {
     "name": "stdout",
     "output_type": "stream",
     "text": [
      "Accuracy: 0.7151\n"
     ]
    }
   ],
   "source": [
    "evaluator = MulticlassClassificationEvaluator(labelCol=\"label\", predictionCol=\"prediction\", metricName=\"accuracy\")\n",
    "print(\"Accuracy: %g\" % (evaluator.evaluate(predictions)))\n"
   ]
  },
  {
   "cell_type": "markdown",
   "id": "10b41da6",
   "metadata": {},
   "source": [
    "# Save Spark Model"
   ]
  },
  {
   "cell_type": "code",
   "execution_count": 38,
   "id": "2da74eb2",
   "metadata": {},
   "outputs": [],
   "source": [
    "pipelineFit.save(\"file://///Users/zaranabhalala/Desktop/project/logreg.model\")\n"
   ]
  },
  {
   "cell_type": "code",
   "execution_count": null,
   "id": "1834a667",
   "metadata": {},
   "outputs": [],
   "source": []
  }
 ],
 "metadata": {
  "kernelspec": {
   "display_name": "Python 3",
   "language": "python",
   "name": "python3"
  },
  "language_info": {
   "codemirror_mode": {
    "name": "ipython",
    "version": 3
   },
   "file_extension": ".py",
   "mimetype": "text/x-python",
   "name": "python",
   "nbconvert_exporter": "python",
   "pygments_lexer": "ipython3",
   "version": "3.8.8"
  }
 },
 "nbformat": 4,
 "nbformat_minor": 5
}
